{
  "nbformat": 4,
  "nbformat_minor": 0,
  "metadata": {
    "colab": {
      "provenance": [],
      "authorship_tag": "ABX9TyO0Dxah/uXMM9/hGVPC2MKt",
      "include_colab_link": true
    },
    "kernelspec": {
      "name": "python3",
      "display_name": "Python 3"
    },
    "language_info": {
      "name": "python"
    }
  },
  "cells": [
    {
      "cell_type": "markdown",
      "metadata": {
        "id": "view-in-github",
        "colab_type": "text"
      },
      "source": [
        "<a href=\"https://colab.research.google.com/github/pucpML/CursoML/blob/main/Clase0.ipynb\" target=\"_parent\"><img src=\"https://colab.research.google.com/assets/colab-badge.svg\" alt=\"Open In Colab\"/></a>"
      ]
    },
    {
      "cell_type": "code",
      "execution_count": null,
      "metadata": {
        "colab": {
          "base_uri": "https://localhost:8080/"
        },
        "id": "rH65gHAmArdU",
        "outputId": "ca611b5d-bc46-4fcc-8e2b-23c00d9608b0"
      },
      "outputs": [
        {
          "output_type": "execute_result",
          "data": {
            "text/plain": [
              "6"
            ]
          },
          "metadata": {},
          "execution_count": 1
        }
      ],
      "source": [
        "2+4"
      ]
    },
    {
      "cell_type": "markdown",
      "source": [
        "$\\beta$"
      ],
      "metadata": {
        "id": "LkOvp-A7BM66"
      }
    },
    {
      "cell_type": "code",
      "source": [
        "R = 10  # Or any other numeric value you want to assign to R\n",
        "R + 4\n"
      ],
      "metadata": {
        "colab": {
          "base_uri": "https://localhost:8080/"
        },
        "id": "TWVWHr-4GE7Y",
        "outputId": "40eee6e6-b27e-4b7e-ff83-a00497924a1f"
      },
      "execution_count": null,
      "outputs": [
        {
          "output_type": "execute_result",
          "data": {
            "text/plain": [
              "14"
            ]
          },
          "metadata": {},
          "execution_count": 4
        }
      ]
    },
    {
      "cell_type": "code",
      "source": [
        "# prompt: genera una funcion dque sume dos numeros\n",
        "\n",
        "def suma_dos_numeros(a, b):\n",
        "  \"\"\"\n",
        "  Esta función suma dos números.\n",
        "\n",
        "  Args:\n",
        "    a: El primer número.\n",
        "    b: El segundo número.\n",
        "\n",
        "  Returns:\n",
        "    La suma de los dos números.\n",
        "  \"\"\"\n",
        "  return a + b\n",
        "\n",
        "# Ejemplo de uso\n",
        "resultado = suma_dos_numeros(2, 4)\n",
        "resultado"
      ],
      "metadata": {
        "colab": {
          "base_uri": "https://localhost:8080/"
        },
        "id": "q5i3SEqsFQqz",
        "outputId": "6ae6cf28-4d6d-4b8d-c3ae-f540e2ed7283"
      },
      "execution_count": null,
      "outputs": [
        {
          "output_type": "execute_result",
          "data": {
            "text/plain": [
              "6"
            ]
          },
          "metadata": {},
          "execution_count": 2
        }
      ]
    }
  ]
}